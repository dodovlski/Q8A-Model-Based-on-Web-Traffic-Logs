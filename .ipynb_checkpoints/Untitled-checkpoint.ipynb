{
 "cells": [
  {
   "cell_type": "code",
   "execution_count": 7,
   "id": "ae914ab5-b54a-40dd-87fd-b5fb34e2f63b",
   "metadata": {},
   "outputs": [
    {
     "data": {
      "text/html": [
       "<div>\n",
       "<style scoped>\n",
       "    .dataframe tbody tr th:only-of-type {\n",
       "        vertical-align: middle;\n",
       "    }\n",
       "\n",
       "    .dataframe tbody tr th {\n",
       "        vertical-align: top;\n",
       "    }\n",
       "\n",
       "    .dataframe thead th {\n",
       "        text-align: right;\n",
       "    }\n",
       "</style>\n",
       "<table border=\"1\" class=\"dataframe\">\n",
       "  <thead>\n",
       "    <tr style=\"text-align: right;\">\n",
       "      <th></th>\n",
       "      <th>IP</th>\n",
       "      <th>DATE&amp;TIME</th>\n",
       "      <th>REQUEST_METHOD</th>\n",
       "      <th>URL</th>\n",
       "      <th>STATUS_CODE</th>\n",
       "      <th>SIZE</th>\n",
       "      <th>USER_AGENT</th>\n",
       "      <th>RANDOM_LOG_NUMBER</th>\n",
       "    </tr>\n",
       "  </thead>\n",
       "  <tbody>\n",
       "  </tbody>\n",
       "</table>\n",
       "</div>"
      ],
      "text/plain": [
       "Empty DataFrame\n",
       "Columns: [IP, DATE&TIME, REQUEST_METHOD, URL, STATUS_CODE, SIZE, USER_AGENT, RANDOM_LOG_NUMBER]\n",
       "Index: []"
      ]
     },
     "execution_count": 7,
     "metadata": {},
     "output_type": "execute_result"
    }
   ],
   "source": [
    "import pandas as pd\n",
    "import re\n",
    "\n",
    "# Log dosyasının yolunu belirleme\n",
    "file_path = 'weblogdata.log'\n",
    "\n",
    "# Sütun başlıklarını belirleme\n",
    "columns = ['IP', 'DATE&TIME', 'REQUEST_METHOD', 'URL', 'STATUS_CODE', 'SIZE', 'USER_AGENT', 'RANDOM_LOG_NUMBER']\n",
    "\n",
    "# Log dosyasını okuma\n",
    "with open(file_path, 'r') as file:\n",
    "    lines = file.readlines()\n",
    "\n",
    "# Her satırı düzenli ifadelerle doğru şekilde ayırarak sütunlara ayırma\n",
    "weblogs = []\n",
    "for line in lines:\n",
    "    match = re.match(r'(\\S+) - - \\[(.*?)\\] \"(.*?) (.*?) (.*?)\" (\\d+) (\\d+) \"(.*?)\" \"(.*?)\" (\\d+)', line)\n",
    "    if match:\n",
    "        ip = match.group(1)\n",
    "        datetime = match.group(2)\n",
    "        request_method = match.group(3)\n",
    "        url = match.group(4)\n",
    "        protocol_version = match.group(5)\n",
    "        status_code = match.group(6)\n",
    "        size = match.group(7)\n",
    "        referrer = match.group(8)\n",
    "        user_agent = match.group(9)\n",
    "        random_log_number = match.group(10)\n",
    "\n",
    "        weblogs.append([ip, datetime, request_method, url, status_code, size, user_agent, random_log_number])\n",
    "\n",
    "# DataFrame oluşturma\n",
    "weblogs = pd.DataFrame(weblogs, columns=columns)\n",
    "\n",
    "# DataFrame'in ilk birkaç satırını görüntüleme\n",
    "weblogs.head()\n"
   ]
  },
  {
   "cell_type": "code",
   "execution_count": 8,
   "id": "37380729-0672-4f0a-8b16-5084e6c2d11b",
   "metadata": {},
   "outputs": [
    {
     "data": {
      "text/html": [
       "<div>\n",
       "<style scoped>\n",
       "    .dataframe tbody tr th:only-of-type {\n",
       "        vertical-align: middle;\n",
       "    }\n",
       "\n",
       "    .dataframe tbody tr th {\n",
       "        vertical-align: top;\n",
       "    }\n",
       "\n",
       "    .dataframe thead th {\n",
       "        text-align: right;\n",
       "    }\n",
       "</style>\n",
       "<table border=\"1\" class=\"dataframe\">\n",
       "  <thead>\n",
       "    <tr style=\"text-align: right;\">\n",
       "      <th></th>\n",
       "      <th>IP</th>\n",
       "      <th>DATE&amp;TIME</th>\n",
       "      <th>REQUEST_METHOD</th>\n",
       "      <th>URL</th>\n",
       "      <th>STATUS_CODE</th>\n",
       "      <th>SIZE</th>\n",
       "    </tr>\n",
       "  </thead>\n",
       "  <tbody>\n",
       "  </tbody>\n",
       "</table>\n",
       "</div>"
      ],
      "text/plain": [
       "Empty DataFrame\n",
       "Columns: [IP, DATE&TIME, REQUEST_METHOD, URL, STATUS_CODE, SIZE]\n",
       "Index: []"
      ]
     },
     "execution_count": 8,
     "metadata": {},
     "output_type": "execute_result"
    }
   ],
   "source": [
    "weblogs = weblogs.drop(columns=[\"USER_AGENT\", \"RANDOM_LOG_NUMBER\"])\n",
    "weblogs.head()"
   ]
  },
  {
   "cell_type": "code",
   "execution_count": 9,
   "id": "2a1dd95d-081e-44a1-81e4-be1961055bf6",
   "metadata": {},
   "outputs": [
    {
     "data": {
      "text/html": [
       "<div>\n",
       "<style scoped>\n",
       "    .dataframe tbody tr th:only-of-type {\n",
       "        vertical-align: middle;\n",
       "    }\n",
       "\n",
       "    .dataframe tbody tr th {\n",
       "        vertical-align: top;\n",
       "    }\n",
       "\n",
       "    .dataframe thead th {\n",
       "        text-align: right;\n",
       "    }\n",
       "</style>\n",
       "<table border=\"1\" class=\"dataframe\">\n",
       "  <thead>\n",
       "    <tr style=\"text-align: right;\">\n",
       "      <th></th>\n",
       "      <th>IP</th>\n",
       "      <th>DATE&amp;TIME</th>\n",
       "      <th>REQUEST_METHOD</th>\n",
       "      <th>URL</th>\n",
       "      <th>STATUS_CODE</th>\n",
       "      <th>SIZE</th>\n",
       "      <th>DATE</th>\n",
       "      <th>TIME</th>\n",
       "    </tr>\n",
       "  </thead>\n",
       "  <tbody>\n",
       "  </tbody>\n",
       "</table>\n",
       "</div>"
      ],
      "text/plain": [
       "Empty DataFrame\n",
       "Columns: [IP, DATE&TIME, REQUEST_METHOD, URL, STATUS_CODE, SIZE, DATE, TIME]\n",
       "Index: []"
      ]
     },
     "execution_count": 9,
     "metadata": {},
     "output_type": "execute_result"
    }
   ],
   "source": [
    "weblogs['DATE&TIME'] = pd.to_datetime(weblogs['DATE&TIME'], format='%d/%b/%Y:%H:%M:%S %z')\n",
    "\n",
    "# 'Date' ve 'Time' olarak ayır\n",
    "weblogs['DATE'] = weblogs['DATE&TIME'].dt.date\n",
    "weblogs['TIME'] = weblogs['DATE&TIME'].dt.time\n",
    "\n",
    "weblogs.head()"
   ]
  },
  {
   "cell_type": "code",
   "execution_count": null,
   "id": "582053d6-a7f7-4864-a01b-8d115c053712",
   "metadata": {},
   "outputs": [],
   "source": []
  },
  {
   "cell_type": "code",
   "execution_count": null,
   "id": "2d9a46e0-c7d8-4378-9648-4454f75b06e3",
   "metadata": {},
   "outputs": [],
   "source": []
  }
 ],
 "metadata": {
  "kernelspec": {
   "display_name": "Python 3 (ipykernel)",
   "language": "python",
   "name": "python3"
  },
  "language_info": {
   "codemirror_mode": {
    "name": "ipython",
    "version": 3
   },
   "file_extension": ".py",
   "mimetype": "text/x-python",
   "name": "python",
   "nbconvert_exporter": "python",
   "pygments_lexer": "ipython3",
   "version": "3.12.3"
  }
 },
 "nbformat": 4,
 "nbformat_minor": 5
}
